{
 "cells": [
  {
   "cell_type": "code",
   "execution_count": 7,
   "id": "0932df2b",
   "metadata": {},
   "outputs": [],
   "source": [
    "import numpy as np\n",
    "import sympy as sp\n",
    "from circuits import parallel, voltageDivder"
   ]
  },
  {
   "cell_type": "code",
   "execution_count": 8,
   "id": "ef59f9df",
   "metadata": {},
   "outputs": [],
   "source": [
    "R1, R2, C, w, V= sp.symbols('R_1, R_2, C, omega, V')\n",
    "Zr1 = sp.symbols(\"R_1\")\n",
    "Zc1 = 1/(1j*w*sp.symbols(\"C_1\"))\n",
    "Zl1 = 1j*w*sp.symbols(\"L_1\")"
   ]
  },
  {
   "cell_type": "code",
   "execution_count": 9,
   "id": "dce55824",
   "metadata": {},
   "outputs": [
    {
     "data": {
      "text/latex": [
       "$\\displaystyle \\frac{R_{1}}{1.0 i C_{1} R_{1} \\omega + 1}$"
      ],
      "text/plain": [
       "R_1/(1.0*I*C_1*R_1*omega + 1)"
      ]
     },
     "execution_count": 9,
     "metadata": {},
     "output_type": "execute_result"
    }
   ],
   "source": [
    "parallel(Zc1, Zr1)"
   ]
  },
  {
   "cell_type": "code",
   "execution_count": 10,
   "id": "897d1599",
   "metadata": {},
   "outputs": [
    {
     "data": {
      "text/latex": [
       "$\\displaystyle \\frac{R_{1} V}{R_{2}}$"
      ],
      "text/plain": [
       "R_1*V/R_2"
      ]
     },
     "execution_count": 10,
     "metadata": {},
     "output_type": "execute_result"
    }
   ],
   "source": [
    "voltageDivder(V, R1, R2)"
   ]
  },
  {
   "cell_type": "code",
   "execution_count": null,
   "id": "bf4bbd77",
   "metadata": {},
   "outputs": [],
   "source": []
  }
 ],
 "metadata": {
  "kernelspec": {
   "display_name": "Python 3",
   "language": "python",
   "name": "python3"
  },
  "language_info": {
   "codemirror_mode": {
    "name": "ipython",
    "version": 3
   },
   "file_extension": ".py",
   "mimetype": "text/x-python",
   "name": "python",
   "nbconvert_exporter": "python",
   "pygments_lexer": "ipython3",
   "version": "3.12.5"
  }
 },
 "nbformat": 4,
 "nbformat_minor": 5
}
